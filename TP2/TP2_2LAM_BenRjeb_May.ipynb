{
 "cells": [
  {
   "cell_type": "markdown",
   "metadata": {},
   "source": [
    "# Simulation du jeux de LIDO simplifié"
   ]
  },
  {
   "cell_type": "markdown",
   "metadata": {},
   "source": [
    "## Principe\n",
    "On considére un jeux de Lido simple:\n",
    "on dispose d'un un seul pion.\n",
    "\n",
    "- Etape 0 :\n",
    "Le pion doit sort de sa prison lorsqu'on obtient un 6.\n",
    "\n",
    "- Etape 1 :\n",
    "Le pion doit atteindre exactement une position cible situé à N pas de distance de sa prison \n",
    "\n",
    "Soit $X_n$ la variable aléatoire qui represente le nombre de coup nécéssaire pour atteindre la positions cible.\n",
    "\n",
    "**Objectif 1** : Simuler le jeux \n",
    "\n",
    "**Objectif 2** : Calculer une estimation de l'éspérance mathématique de $X_n$ en utilisant `python`\n",
    "\n",
    "**Objéctif 3** : Observer la variation de $\\mathbb{E}(X_n)$ en fonction de $n$\n",
    "\n",
    "<img src=\"LIDO.png\">\n"
   ]
  },
  {
   "cell_type": "code",
   "execution_count": 2,
   "metadata": {},
   "outputs": [],
   "source": [
    "import numpy as np"
   ]
  },
  {
   "cell_type": "markdown",
   "metadata": {},
   "source": [
    "### Simulation du lancé de dé"
   ]
  },
  {
   "cell_type": "code",
   "execution_count": 3,
   "metadata": {},
   "outputs": [],
   "source": [
    "def Roll():\n",
    "    return int(np.random.choice(7,1))\n",
    "#à travers la fonction int() on transforme l'array sous forme d'entier"
   ]
  },
  {
   "cell_type": "code",
   "execution_count": 4,
   "metadata": {},
   "outputs": [
    {
     "data": {
      "text/plain": [
       "0"
      ]
     },
     "execution_count": 4,
     "metadata": {},
     "output_type": "execute_result"
    }
   ],
   "source": [
    "Roll()"
   ]
  },
  {
   "cell_type": "markdown",
   "metadata": {},
   "source": [
    "### Compléter le code et commenter"
   ]
  },
  {
   "cell_type": "code",
   "execution_count": 5,
   "metadata": {
    "scrolled": true
   },
   "outputs": [
    {
     "name": "stdout",
     "output_type": "stream",
     "text": [
      "1 2\n",
      "2 5\n",
      "3 5\n",
      "4 1\n",
      "5 2\n",
      "6 5\n",
      "7 1\n",
      "8 2\n",
      "9 1\n",
      "10 1\n",
      "11 0\n",
      "12 1\n",
      "13 1\n",
      "14 6\n",
      "sortie de la prison après 14 coups\n",
      "15 0 1\n",
      "16 3 4\n",
      "17 4 8\n",
      "18 6 8\n",
      "19 1 9\n",
      "20 5 9\n",
      "21 4 9\n",
      "22 6 9\n",
      "23 2 9\n",
      "24 4 9\n",
      "25 4 9\n",
      "26 3 9\n",
      "27 1 10\n"
     ]
    }
   ],
   "source": [
    "A=0#position\n",
    "NA=0 #valeur de dé après chaque depart \n",
    "S=10 #la position de la cible \n",
    "temp=Roll() #Nous appelons la fonction roll() pour faire bouger le dé de sa position initiale jusqu'à ce qu'il atteigne sa cible\n",
    "NA+=1\n",
    "print(NA,temp)\n",
    "while (temp !=6) :#on sort de la boucle while lorsqu'on avoir la valeur 6 à cet état le dé sort de son prison\n",
    "    temp=Roll()\n",
    "    NA+=1\n",
    "    print(NA,temp)\n",
    "A=1\n",
    "print(\"sortie de la prison après {} coups\".format(NA))\n",
    "while(A<S):# on utilise la boucle while pour tester à chaque fois le nombre qu'on avoir aprés le lancement de dé \n",
    "    temp=Roll()\n",
    "    if((temp+A<S)):\n",
    "        NA+=1\n",
    "        A+=temp;\n",
    "        print(NA,temp,A)\n",
    "    elif temp+A>S:\n",
    "        NA+=1\n",
    "        print(NA,temp,A)\n",
    "    else:\n",
    "        A=S\n",
    "        NA+=1\n",
    "        print(NA,temp,A)\n",
    "        \n",
    "    \n",
    "    \n",
    "    \n",
    "    "
   ]
  },
  {
   "cell_type": "markdown",
   "metadata": {},
   "source": [
    "### Simulation\n",
    "Ecrire une foction `sim` qui simule le jeux et qui prend comme variable le nombre de pas $S$ nécessaire pour atteindre la cible"
   ]
  },
  {
   "cell_type": "code",
   "execution_count": 13,
   "metadata": {},
   "outputs": [],
   "source": [
    "def sim(S):\n",
    "    #Le principe de fonction sim est de déterminer le nombre de coup nécessaire \n",
    "    #pour sortir du prison et atteindre la cible\n",
    "    #pour un nombre S de pas pour atteindre la cible\n",
    "    A=0#prison\n",
    "    NA=0#compteur\n",
    "    temp=Roll()\n",
    "    NA+=1\n",
    "    while (temp !=6) : \n",
    "        temp=Roll()\n",
    "        NA+=1\n",
    "    A=1\n",
    "    while(A<S):\n",
    "        temp=Roll()\n",
    "        if((temp+A<S)):\n",
    "        \n",
    "            NA+=1\n",
    "            A+=temp\n",
    "        \n",
    "        elif temp+A>S:\n",
    "            NA+=1\n",
    "        \n",
    "        else:\n",
    "            A=S\n",
    "            NA+=1\n",
    "    return NA\n",
    "    \n",
    "    "
   ]
  },
  {
   "cell_type": "code",
   "execution_count": 14,
   "metadata": {},
   "outputs": [
    {
     "data": {
      "text/plain": [
       "30"
      ]
     },
     "execution_count": 14,
     "metadata": {},
     "output_type": "execute_result"
    }
   ],
   "source": [
    "sim(10)"
   ]
  },
  {
   "cell_type": "code",
   "execution_count": 16,
   "metadata": {},
   "outputs": [
    {
     "name": "stdout",
     "output_type": "stream",
     "text": [
      "estimation de la moyenne de X_30=22.2503\n"
     ]
    }
   ],
   "source": [
    "#simulation 10000 fois S=30\n",
    "#on calcul la moyenne de coup qu'on peut avoir ,pour arriver à un cible de S pas pour un simulation de 10000\n",
    "L=[sim(30) for i in range(10000)]\n",
    "Moy=sum(L)/10000\n",
    "print('estimation de la moyenne de X_30={}'.format(Moy))"
   ]
  },
  {
   "cell_type": "markdown",
   "metadata": {},
   "source": [
    "### Simulation de $10^5$  scénario "
   ]
  },
  {
   "cell_type": "code",
   "execution_count": 26,
   "metadata": {},
   "outputs": [],
   "source": [
    "x=list(range(10,20)) #x est un array de dimension 10 contient le nombre de pas aléatoire de rang(20)\n",
    "x\n",
    "y=[sum([sim(u) for i in range(10000)])/10000 for u in x] \n",
    "#y est un array de dimension 10 contient la moyenne de coup qu'on peut avoir pour chaque valeur de tableau x "
   ]
  },
  {
   "cell_type": "code",
   "execution_count": 27,
   "metadata": {},
   "outputs": [],
   "source": [
    "import matplotlib.pyplot as plt"
   ]
  },
  {
   "cell_type": "code",
   "execution_count": 28,
   "metadata": {
    "scrolled": true
   },
   "outputs": [
    {
     "data": {
      "image/png": "[encoded data removed]",
      "text/plain": [
       "<Figure size 432x288 with 1 Axes>"
      ]
     },
     "metadata": {
      "needs_background": "light"
     },
     "output_type": "display_data"
    }
   ],
   "source": [
    "plt.plot(x,y,'*r')\n",
    "plt.show()"
   ]
  },
  {
   "cell_type": "code",
   "execution_count": 29,
   "metadata": {},
   "outputs": [],
   "source": [
    "#pip install scipy"
   ]
  },
  {
   "cell_type": "code",
   "execution_count": 30,
   "metadata": {},
   "outputs": [],
   "source": [
    "from scipy import stats\n",
    "import numpy as np\n",
    "slope, intercept, r_value, p_value, std_err = stats.linregress(x,y) \n",
    "#Calculer une régression linéaire des moindres carrés pour deux ensembles de mesures."
   ]
  },
  {
   "cell_type": "code",
   "execution_count": 31,
   "metadata": {},
   "outputs": [
    {
     "data": {
      "text/plain": [
       "0.34860606060606053"
      ]
     },
     "execution_count": 31,
     "metadata": {},
     "output_type": "execute_result"
    }
   ],
   "source": [
    "slope"
   ]
  },
  {
   "cell_type": "code",
   "execution_count": 32,
   "metadata": {},
   "outputs": [
    {
     "data": {
      "text/plain": [
       "12.003472121212123"
      ]
     },
     "execution_count": 32,
     "metadata": {},
     "output_type": "execute_result"
    }
   ],
   "source": [
    "intercept\n"
   ]
  },
  {
   "cell_type": "code",
   "execution_count": 33,
   "metadata": {},
   "outputs": [],
   "source": [
    "yy=[slope*u+intercept for u in x]"
   ]
  },
  {
   "cell_type": "code",
   "execution_count": 34,
   "metadata": {
    "scrolled": true
   },
   "outputs": [
    {
     "data": {
      "text/plain": [
       "[<matplotlib.lines.Line2D at 0x1d34dfce310>,\n",
       " <matplotlib.lines.Line2D at 0x1d34dfce340>]"
      ]
     },
     "execution_count": 34,
     "metadata": {},
     "output_type": "execute_result"
    },
    {
     "data": {
      "image/png": "[encoded data removed]",
      "text/plain": [
       "<Figure size 432x288 with 1 Axes>"
      ]
     },
     "metadata": {
      "needs_background": "light"
     },
     "output_type": "display_data"
    }
   ],
   "source": [
    "plt.plot(x,y,'*r',x,yy,'-b')"
   ]
  },
  {
   "cell_type": "markdown",
   "metadata": {},
   "source": [
    "E(X_n)~=0.34860606*n+12.0034721"
   ]
  },
  {
   "cell_type": "code",
   "execution_count": null,
   "metadata": {},
   "outputs": [],
   "source": []
  }
 ],
 "metadata": {
  "kernelspec": {
   "display_name": "Python 3",
   "language": "python",
   "name": "python3"
  },
  "language_info": {
   "codemirror_mode": {
    "name": "ipython",
    "version": 3
   },
   "file_extension": ".py",
   "mimetype": "text/x-python",
   "name": "python",
   "nbconvert_exporter": "python",
   "pygments_lexer": "ipython3",
   "version": "3.8.8"
  }
 },
 "nbformat": 4,
 "nbformat_minor": 4
}
